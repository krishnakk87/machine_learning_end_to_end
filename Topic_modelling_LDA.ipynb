{
  "nbformat": 4,
  "nbformat_minor": 0,
  "metadata": {
    "colab": {
      "name": "LDA.ipynb",
      "provenance": [],
      "collapsed_sections": []
    },
    "kernelspec": {
      "name": "python3",
      "display_name": "Python 3"
    },
    "language_info": {
      "name": "python"
    }
  },
  "cells": [
    {
      "cell_type": "markdown",
      "source": [
        "# Import Librarys"
      ],
      "metadata": {
        "id": "ZJJ3CyO71I2S"
      }
    },
    {
      "cell_type": "code",
      "execution_count": null,
      "metadata": {
        "id": "Z_or0THgbm3Y"
      },
      "outputs": [],
      "source": [
        "# import dependencies\n",
        "%matplotlib inline\n",
        "import pandas as pd\n",
        "import numpy as np\n",
        "import nltk\n",
        "from nltk.corpus import stopwords\n",
        "import gensim\n",
        "from gensim.models import LdaModel\n",
        "from gensim import models, corpora, similarities\n",
        "import re\n",
        "from nltk.stem.porter import PorterStemmer\n",
        "import time\n",
        "from nltk import FreqDist\n",
        "from scipy.stats import entropy\n",
        "import matplotlib.pyplot as plt\n",
        "import seaborn as sns\n",
        "sns.set_style(\"darkgrid\")"
      ]
    },
    {
      "cell_type": "markdown",
      "source": [
        "# Download nltk stopword, stemmer"
      ],
      "metadata": {
        "id": "l4IQEcY51PWH"
      }
    },
    {
      "cell_type": "code",
      "source": [
        "nltk.download('all')\n",
        "nltk.download(\"stopwords\")"
      ],
      "metadata": {
        "id": "PJL-5_obeC0H"
      },
      "execution_count": null,
      "outputs": []
    },
    {
      "cell_type": "markdown",
      "source": [
        "# Load and Visualize data"
      ],
      "metadata": {
        "id": "fmafYtUD1cke"
      }
    },
    {
      "cell_type": "code",
      "source": [
        "df = pd.read_csv('/content/drive/MyDrive/fake.csv', usecols = ['title','text','language'])\n",
        "#['uuid','author','title','text','language','site_url','country']\n",
        "df = df[df.language == 'english']\n",
        "df = df[df['text'].map(type) == str]\n",
        "df['title'].fillna(value=\"\", inplace=True)\n",
        "df.dropna(axis=0, inplace=True, subset=['text'])\n",
        "# shuffle the data\n",
        "df = df.sample(frac=1.0)\n",
        "df.reset_index(drop=True,inplace=True)\n",
        "df.head()"
      ],
      "metadata": {
        "colab": {
          "base_uri": "https://localhost:8080/",
          "height": 206
        },
        "id": "1PXAahsTbvhT",
        "outputId": "9e56b3dc-f542-438b-f8d7-0b45bf4b58c4"
      },
      "execution_count": null,
      "outputs": [
        {
          "output_type": "execute_result",
          "data": {
            "text/html": [
              "\n",
              "  <div id=\"df-e549ebcc-0561-435a-960d-0bbf65e35fce\">\n",
              "    <div class=\"colab-df-container\">\n",
              "      <div>\n",
              "<style scoped>\n",
              "    .dataframe tbody tr th:only-of-type {\n",
              "        vertical-align: middle;\n",
              "    }\n",
              "\n",
              "    .dataframe tbody tr th {\n",
              "        vertical-align: top;\n",
              "    }\n",
              "\n",
              "    .dataframe thead th {\n",
              "        text-align: right;\n",
              "    }\n",
              "</style>\n",
              "<table border=\"1\" class=\"dataframe\">\n",
              "  <thead>\n",
              "    <tr style=\"text-align: right;\">\n",
              "      <th></th>\n",
              "      <th>title</th>\n",
              "      <th>text</th>\n",
              "      <th>language</th>\n",
              "    </tr>\n",
              "  </thead>\n",
              "  <tbody>\n",
              "    <tr>\n",
              "      <th>0</th>\n",
              "      <td></td>\n",
              "      <td>I firmly believe for the population of which c...</td>\n",
              "      <td>english</td>\n",
              "    </tr>\n",
              "    <tr>\n",
              "      <th>1</th>\n",
              "      <td>Did Hillary Clinton Cheat at the Debate?</td>\n",
              "      <td>Daisy Luther \\nI know the debate was a couple ...</td>\n",
              "      <td>english</td>\n",
              "    </tr>\n",
              "    <tr>\n",
              "      <th>2</th>\n",
              "      <td>“We are losing control of the streets,” say po...</td>\n",
              "      <td>BNI Store Nov 2 2016 “We are losing control of...</td>\n",
              "      <td>english</td>\n",
              "    </tr>\n",
              "    <tr>\n",
              "      <th>3</th>\n",
              "      <td>RIGGED! DOJ Weiner Email Probe Will Be Led By ...</td>\n",
              "      <td>RIGGED! DOJ Weiner Email Probe Will Be Led By ...</td>\n",
              "      <td>english</td>\n",
              "    </tr>\n",
              "    <tr>\n",
              "      <th>4</th>\n",
              "      <td>NYPD Cop Who Killed Eric Garner to be Indicted...</td>\n",
              "      <td>NYPD Cop Who Killed Eric Garner to be Indicted...</td>\n",
              "      <td>english</td>\n",
              "    </tr>\n",
              "  </tbody>\n",
              "</table>\n",
              "</div>\n",
              "      <button class=\"colab-df-convert\" onclick=\"convertToInteractive('df-e549ebcc-0561-435a-960d-0bbf65e35fce')\"\n",
              "              title=\"Convert this dataframe to an interactive table.\"\n",
              "              style=\"display:none;\">\n",
              "        \n",
              "  <svg xmlns=\"http://www.w3.org/2000/svg\" height=\"24px\"viewBox=\"0 0 24 24\"\n",
              "       width=\"24px\">\n",
              "    <path d=\"M0 0h24v24H0V0z\" fill=\"none\"/>\n",
              "    <path d=\"M18.56 5.44l.94 2.06.94-2.06 2.06-.94-2.06-.94-.94-2.06-.94 2.06-2.06.94zm-11 1L8.5 8.5l.94-2.06 2.06-.94-2.06-.94L8.5 2.5l-.94 2.06-2.06.94zm10 10l.94 2.06.94-2.06 2.06-.94-2.06-.94-.94-2.06-.94 2.06-2.06.94z\"/><path d=\"M17.41 7.96l-1.37-1.37c-.4-.4-.92-.59-1.43-.59-.52 0-1.04.2-1.43.59L10.3 9.45l-7.72 7.72c-.78.78-.78 2.05 0 2.83L4 21.41c.39.39.9.59 1.41.59.51 0 1.02-.2 1.41-.59l7.78-7.78 2.81-2.81c.8-.78.8-2.07 0-2.86zM5.41 20L4 18.59l7.72-7.72 1.47 1.35L5.41 20z\"/>\n",
              "  </svg>\n",
              "      </button>\n",
              "      \n",
              "  <style>\n",
              "    .colab-df-container {\n",
              "      display:flex;\n",
              "      flex-wrap:wrap;\n",
              "      gap: 12px;\n",
              "    }\n",
              "\n",
              "    .colab-df-convert {\n",
              "      background-color: #E8F0FE;\n",
              "      border: none;\n",
              "      border-radius: 50%;\n",
              "      cursor: pointer;\n",
              "      display: none;\n",
              "      fill: #1967D2;\n",
              "      height: 32px;\n",
              "      padding: 0 0 0 0;\n",
              "      width: 32px;\n",
              "    }\n",
              "\n",
              "    .colab-df-convert:hover {\n",
              "      background-color: #E2EBFA;\n",
              "      box-shadow: 0px 1px 2px rgba(60, 64, 67, 0.3), 0px 1px 3px 1px rgba(60, 64, 67, 0.15);\n",
              "      fill: #174EA6;\n",
              "    }\n",
              "\n",
              "    [theme=dark] .colab-df-convert {\n",
              "      background-color: #3B4455;\n",
              "      fill: #D2E3FC;\n",
              "    }\n",
              "\n",
              "    [theme=dark] .colab-df-convert:hover {\n",
              "      background-color: #434B5C;\n",
              "      box-shadow: 0px 1px 3px 1px rgba(0, 0, 0, 0.15);\n",
              "      filter: drop-shadow(0px 1px 2px rgba(0, 0, 0, 0.3));\n",
              "      fill: #FFFFFF;\n",
              "    }\n",
              "  </style>\n",
              "\n",
              "      <script>\n",
              "        const buttonEl =\n",
              "          document.querySelector('#df-e549ebcc-0561-435a-960d-0bbf65e35fce button.colab-df-convert');\n",
              "        buttonEl.style.display =\n",
              "          google.colab.kernel.accessAllowed ? 'block' : 'none';\n",
              "\n",
              "        async function convertToInteractive(key) {\n",
              "          const element = document.querySelector('#df-e549ebcc-0561-435a-960d-0bbf65e35fce');\n",
              "          const dataTable =\n",
              "            await google.colab.kernel.invokeFunction('convertToInteractive',\n",
              "                                                     [key], {});\n",
              "          if (!dataTable) return;\n",
              "\n",
              "          const docLinkHtml = 'Like what you see? Visit the ' +\n",
              "            '<a target=\"_blank\" href=https://colab.research.google.com/notebooks/data_table.ipynb>data table notebook</a>'\n",
              "            + ' to learn more about interactive tables.';\n",
              "          element.innerHTML = '';\n",
              "          dataTable['output_type'] = 'display_data';\n",
              "          await google.colab.output.renderOutput(dataTable, element);\n",
              "          const docLink = document.createElement('div');\n",
              "          docLink.innerHTML = docLinkHtml;\n",
              "          element.appendChild(docLink);\n",
              "        }\n",
              "      </script>\n",
              "    </div>\n",
              "  </div>\n",
              "  "
            ],
            "text/plain": [
              "                                               title  \\\n",
              "0                                                      \n",
              "1           Did Hillary Clinton Cheat at the Debate?   \n",
              "2  “We are losing control of the streets,” say po...   \n",
              "3  RIGGED! DOJ Weiner Email Probe Will Be Led By ...   \n",
              "4  NYPD Cop Who Killed Eric Garner to be Indicted...   \n",
              "\n",
              "                                                text language  \n",
              "0  I firmly believe for the population of which c...  english  \n",
              "1  Daisy Luther \\nI know the debate was a couple ...  english  \n",
              "2  BNI Store Nov 2 2016 “We are losing control of...  english  \n",
              "3  RIGGED! DOJ Weiner Email Probe Will Be Led By ...  english  \n",
              "4  NYPD Cop Who Killed Eric Garner to be Indicted...  english  "
            ]
          },
          "metadata": {},
          "execution_count": 73
        }
      ]
    },
    {
      "cell_type": "markdown",
      "source": [
        "# Preprocessing Function"
      ],
      "metadata": {
        "id": "SSId79bz1iqm"
      }
    },
    {
      "cell_type": "code",
      "source": [
        "def initial_clean(text):\n",
        "    \"\"\"\n",
        "    Function to clean text of websites, email addresess and any punctuation\n",
        "    We also lower case the text\n",
        "    \"\"\"\n",
        "    text = re.sub(\"((\\S+)?(http(s)?)(\\S+))|((\\S+)?(www)(\\S+))|((\\S+)?(\\@)(\\S+)?)\", \" \", text)\n",
        "    text = re.sub(\"[^a-zA-Z ]\", \"\", text)\n",
        "    text = text.lower() # lower case the text\n",
        "    text = nltk.word_tokenize(text)\n",
        "    return text\n",
        "\n",
        "stop_words = stopwords.words('english')\n",
        "\n",
        "def remove_stop_words(text):\n",
        "    \"\"\"\n",
        "    Function that removes all stopwords from text\n",
        "    \"\"\"\n",
        "    return [word for word in text if word not in stop_words]\n",
        "\n",
        "stemmer = PorterStemmer()\n",
        "\n",
        "def stem_words(text):\n",
        "    \"\"\"\n",
        "    Function to stem words, so plural and singular are treated the same\n",
        "    \"\"\"\n",
        "    try:\n",
        "        text = [stemmer.stem(word) for word in text]\n",
        "        text = [word for word in text if len(word) > 1] # make sure we have no 1 letter words\n",
        "    except IndexError: # the word \"oed\" broke this, so needed try except\n",
        "        pass\n",
        "    return text\n",
        "\n",
        "def apply_all(text):\n",
        "    \"\"\"\n",
        "    This function applies all the functions above into one\n",
        "    \"\"\"\n",
        "    return stem_words(remove_stop_words(initial_clean(text)))"
      ],
      "metadata": {
        "id": "VMzqCwxUbved"
      },
      "execution_count": null,
      "outputs": []
    },
    {
      "cell_type": "markdown",
      "source": [
        "# Tokenize data"
      ],
      "metadata": {
        "id": "o7bsDli-1xKY"
      }
    },
    {
      "cell_type": "code",
      "source": [
        "t1 = time.time()\n",
        "df['tokenized'] = df['text'].apply(apply_all) + df['title'].apply(apply_all)\n",
        "t2 = time.time()\n",
        "print(\"Time to clean and tokenize\", len(df), \"articles:\", (t2-t1)/60, \"min\")"
      ],
      "metadata": {
        "colab": {
          "base_uri": "https://localhost:8080/"
        },
        "id": "Y2MDH3csc6Z2",
        "outputId": "77d7d367-1cc0-48d7-e054-5ea9113f8b42"
      },
      "execution_count": null,
      "outputs": [
        {
          "output_type": "stream",
          "name": "stdout",
          "text": [
            "Time to clean and tokenize 12357 articles: 3.3469874262809753 min\n"
          ]
        }
      ]
    },
    {
      "cell_type": "code",
      "source": [
        "# first get a list of all words\n",
        "all_words = [word for item in list(df['tokenized']) for word in item]\n",
        "# use nltk fdist to get a frequency distribution of all words\n",
        "fdist = FreqDist(all_words)\n",
        "len(fdist) # number of unique words"
      ],
      "metadata": {
        "colab": {
          "base_uri": "https://localhost:8080/"
        },
        "id": "RnaCg733c6XT",
        "outputId": "24c2370d-9d04-4dee-a574-3fa5ddb20333"
      },
      "execution_count": null,
      "outputs": [
        {
          "output_type": "execute_result",
          "data": {
            "text/plain": [
              "96280"
            ]
          },
          "metadata": {},
          "execution_count": 22
        }
      ]
    },
    {
      "cell_type": "markdown",
      "source": [
        "**Last 10 word in top K words**"
      ],
      "metadata": {
        "id": "aiiICYid1-PH"
      }
    },
    {
      "cell_type": "code",
      "source": [
        "# choose k and visually inspect the bottom 10 words of the top k\n",
        "k = 50000\n",
        "top_k_words = fdist.most_common(k)\n",
        "top_k_words[-10:]"
      ],
      "metadata": {
        "colab": {
          "base_uri": "https://localhost:8080/"
        },
        "id": "5U_YGxZdeZNx",
        "outputId": "4b3b7395-6a11-4444-fd91-dfef1d18734e"
      },
      "execution_count": null,
      "outputs": [
        {
          "output_type": "execute_result",
          "data": {
            "text/plain": [
              "[('rosl', 1),\n",
              " ('steampow', 1),\n",
              " ('winatallcost', 1),\n",
              " ('tooledup', 1),\n",
              " ('rinder', 1),\n",
              " ('oskana', 1),\n",
              " ('snyderit', 1),\n",
              " ('percentso', 1),\n",
              " ('aroundjust', 1),\n",
              " ('republicansand', 1)]"
            ]
          },
          "metadata": {},
          "execution_count": 25
        }
      ]
    },
    {
      "cell_type": "code",
      "source": [
        "k = 15000\n",
        "top_k_words = fdist.most_common(k)\n",
        "top_k_words[-10:]"
      ],
      "metadata": {
        "colab": {
          "base_uri": "https://localhost:8080/"
        },
        "id": "5inACjIXeZLZ",
        "outputId": "d86f9a9a-4ced-43e6-9cce-fbc88652074d"
      },
      "execution_count": null,
      "outputs": [
        {
          "output_type": "execute_result",
          "data": {
            "text/plain": [
              "[('ziegler', 13),\n",
              " ('fortif', 13),\n",
              " ('benn', 13),\n",
              " ('grillsgt', 13),\n",
              " ('ernest', 13),\n",
              " ('lotion', 13),\n",
              " ('crisp', 13),\n",
              " ('imax', 13),\n",
              " ('leu', 13),\n",
              " ('freshman', 13)]"
            ]
          },
          "metadata": {},
          "execution_count": 26
        }
      ]
    },
    {
      "cell_type": "markdown",
      "source": [
        "# preprocess to keep top K words"
      ],
      "metadata": {
        "id": "YBz7h74R2Gwp"
      }
    },
    {
      "cell_type": "code",
      "source": [
        "# define a function only to keep words in the top k words\n",
        "top_k_words,_ = zip(*fdist.most_common(k))\n",
        "top_k_words = set(top_k_words)\n",
        "def keep_top_k_words(text):\n",
        "    return [word for word in text if word in top_k_words]"
      ],
      "metadata": {
        "id": "IXh4ZLUYeZIz"
      },
      "execution_count": null,
      "outputs": []
    },
    {
      "cell_type": "markdown",
      "source": [
        "# Tokenize data"
      ],
      "metadata": {
        "id": "M40LDjus2LNm"
      }
    },
    {
      "cell_type": "code",
      "source": [
        "df['tokenized'] = df['tokenized'].apply(keep_top_k_words)"
      ],
      "metadata": {
        "id": "nr_0-zKsgLK7"
      },
      "execution_count": null,
      "outputs": []
    },
    {
      "cell_type": "markdown",
      "source": [
        "**Stats about data**"
      ],
      "metadata": {
        "id": "--USXyO92Yjg"
      }
    },
    {
      "cell_type": "code",
      "source": [
        "# document length\n",
        "df['doc_len'] = df['tokenized'].apply(lambda x: len(x))\n",
        "doc_lengths = list(df['doc_len'])\n",
        "df.drop(labels='doc_len', axis=1, inplace=True)\n",
        "\n",
        "print(\"length of list:\",len(doc_lengths),\n",
        "      \"\\naverage document length\", np.average(doc_lengths),\n",
        "      \"\\nminimum document length\", min(doc_lengths),\n",
        "      \"\\nmaximum document length\", max(doc_lengths))"
      ],
      "metadata": {
        "colab": {
          "base_uri": "https://localhost:8080/"
        },
        "id": "wx6oFm_HgLIT",
        "outputId": "5531853b-f815-40c2-ebed-41ffd1fa71c5"
      },
      "execution_count": null,
      "outputs": [
        {
          "output_type": "stream",
          "name": "stdout",
          "text": [
            "length of list: 12357 \n",
            "average document length 345.66828518248764 \n",
            "minimum document length 0 \n",
            "maximum document length 11576\n"
          ]
        }
      ]
    },
    {
      "cell_type": "markdown",
      "source": [
        "# Remove short article"
      ],
      "metadata": {
        "id": "aANqEWv324Q2"
      }
    },
    {
      "cell_type": "code",
      "source": [
        "# only keep articles with more than 30 tokens, otherwise too short\n",
        "df = df[df['tokenized'].map(len) >= 40]\n",
        "# make sure all tokenized items are lists\n",
        "df = df[df['tokenized'].map(type) == list]\n",
        "df.reset_index(drop=True,inplace=True)\n",
        "print(\"After cleaning and excluding short aticles, the dataframe now has:\", len(df), \"articles\")"
      ],
      "metadata": {
        "colab": {
          "base_uri": "https://localhost:8080/"
        },
        "id": "YvqLteFrgLFd",
        "outputId": "705e1436-b374-4c35-9904-6101ac68b0e9"
      },
      "execution_count": null,
      "outputs": [
        {
          "output_type": "stream",
          "name": "stdout",
          "text": [
            "After cleaning and excluding short aticles, the dataframe now has: 10812 articles\n"
          ]
        }
      ]
    },
    {
      "cell_type": "code",
      "source": [
        "df.head(3)"
      ],
      "metadata": {
        "colab": {
          "base_uri": "https://localhost:8080/",
          "height": 257
        },
        "id": "gcymwg9rguUU",
        "outputId": "091d04a7-b060-45ba-806a-8eb7431ca7fd"
      },
      "execution_count": null,
      "outputs": [
        {
          "output_type": "execute_result",
          "data": {
            "text/html": [
              "\n",
              "  <div id=\"df-783f703c-2774-4501-9549-cd987d43754b\">\n",
              "    <div class=\"colab-df-container\">\n",
              "      <div>\n",
              "<style scoped>\n",
              "    .dataframe tbody tr th:only-of-type {\n",
              "        vertical-align: middle;\n",
              "    }\n",
              "\n",
              "    .dataframe tbody tr th {\n",
              "        vertical-align: top;\n",
              "    }\n",
              "\n",
              "    .dataframe thead th {\n",
              "        text-align: right;\n",
              "    }\n",
              "</style>\n",
              "<table border=\"1\" class=\"dataframe\">\n",
              "  <thead>\n",
              "    <tr style=\"text-align: right;\">\n",
              "      <th></th>\n",
              "      <th>uuid</th>\n",
              "      <th>author</th>\n",
              "      <th>title</th>\n",
              "      <th>text</th>\n",
              "      <th>language</th>\n",
              "      <th>site_url</th>\n",
              "      <th>country</th>\n",
              "      <th>tokenized</th>\n",
              "    </tr>\n",
              "  </thead>\n",
              "  <tbody>\n",
              "    <tr>\n",
              "      <th>0</th>\n",
              "      <td>2dcfc3db5b8b74d98041d08ac8dae62944e37419</td>\n",
              "      <td>Joachim Hagopian</td>\n",
              "      <td>Another US False Flag?</td>\n",
              "      <td>By Joachim Hagopian October 29, 2016 \\nThe Wes...</td>\n",
              "      <td>english</td>\n",
              "      <td>lewrockwell.com</td>\n",
              "      <td>US</td>\n",
              "      <td>[joachim, hagopian, octob, western, media, sei...</td>\n",
              "    </tr>\n",
              "    <tr>\n",
              "      <th>1</th>\n",
              "      <td>6cec28c6ee03e73eab7e141dfd2da4191e5d4df0</td>\n",
              "      <td>Andrew Anglin</td>\n",
              "      <td>US and Allies Openly Massing Huge Army on Russ...</td>\n",
              "      <td>US and Allies Openly Massing Huge Army on Russ...</td>\n",
              "      <td>english</td>\n",
              "      <td>dailystormer.com</td>\n",
              "      <td>US</td>\n",
              "      <td>[us, alli, openli, mass, huge, armi, russian, ...</td>\n",
              "    </tr>\n",
              "    <tr>\n",
              "      <th>2</th>\n",
              "      <td>5fa56279455a0affbbf2475d4af5d04b359629cd</td>\n",
              "      <td>NaN</td>\n",
              "      <td>Beyond The Veil: Channeling My Sister’s Messag...</td>\n",
              "      <td>By In5D on November 14, 2016 in Spiritual Awak...</td>\n",
              "      <td>english</td>\n",
              "      <td>in5d.com</td>\n",
              "      <td>US</td>\n",
              "      <td>[ind, novemb, spiritu, awaken, first, time, ch...</td>\n",
              "    </tr>\n",
              "  </tbody>\n",
              "</table>\n",
              "</div>\n",
              "      <button class=\"colab-df-convert\" onclick=\"convertToInteractive('df-783f703c-2774-4501-9549-cd987d43754b')\"\n",
              "              title=\"Convert this dataframe to an interactive table.\"\n",
              "              style=\"display:none;\">\n",
              "        \n",
              "  <svg xmlns=\"http://www.w3.org/2000/svg\" height=\"24px\"viewBox=\"0 0 24 24\"\n",
              "       width=\"24px\">\n",
              "    <path d=\"M0 0h24v24H0V0z\" fill=\"none\"/>\n",
              "    <path d=\"M18.56 5.44l.94 2.06.94-2.06 2.06-.94-2.06-.94-.94-2.06-.94 2.06-2.06.94zm-11 1L8.5 8.5l.94-2.06 2.06-.94-2.06-.94L8.5 2.5l-.94 2.06-2.06.94zm10 10l.94 2.06.94-2.06 2.06-.94-2.06-.94-.94-2.06-.94 2.06-2.06.94z\"/><path d=\"M17.41 7.96l-1.37-1.37c-.4-.4-.92-.59-1.43-.59-.52 0-1.04.2-1.43.59L10.3 9.45l-7.72 7.72c-.78.78-.78 2.05 0 2.83L4 21.41c.39.39.9.59 1.41.59.51 0 1.02-.2 1.41-.59l7.78-7.78 2.81-2.81c.8-.78.8-2.07 0-2.86zM5.41 20L4 18.59l7.72-7.72 1.47 1.35L5.41 20z\"/>\n",
              "  </svg>\n",
              "      </button>\n",
              "      \n",
              "  <style>\n",
              "    .colab-df-container {\n",
              "      display:flex;\n",
              "      flex-wrap:wrap;\n",
              "      gap: 12px;\n",
              "    }\n",
              "\n",
              "    .colab-df-convert {\n",
              "      background-color: #E8F0FE;\n",
              "      border: none;\n",
              "      border-radius: 50%;\n",
              "      cursor: pointer;\n",
              "      display: none;\n",
              "      fill: #1967D2;\n",
              "      height: 32px;\n",
              "      padding: 0 0 0 0;\n",
              "      width: 32px;\n",
              "    }\n",
              "\n",
              "    .colab-df-convert:hover {\n",
              "      background-color: #E2EBFA;\n",
              "      box-shadow: 0px 1px 2px rgba(60, 64, 67, 0.3), 0px 1px 3px 1px rgba(60, 64, 67, 0.15);\n",
              "      fill: #174EA6;\n",
              "    }\n",
              "\n",
              "    [theme=dark] .colab-df-convert {\n",
              "      background-color: #3B4455;\n",
              "      fill: #D2E3FC;\n",
              "    }\n",
              "\n",
              "    [theme=dark] .colab-df-convert:hover {\n",
              "      background-color: #434B5C;\n",
              "      box-shadow: 0px 1px 3px 1px rgba(0, 0, 0, 0.15);\n",
              "      filter: drop-shadow(0px 1px 2px rgba(0, 0, 0, 0.3));\n",
              "      fill: #FFFFFF;\n",
              "    }\n",
              "  </style>\n",
              "\n",
              "      <script>\n",
              "        const buttonEl =\n",
              "          document.querySelector('#df-783f703c-2774-4501-9549-cd987d43754b button.colab-df-convert');\n",
              "        buttonEl.style.display =\n",
              "          google.colab.kernel.accessAllowed ? 'block' : 'none';\n",
              "\n",
              "        async function convertToInteractive(key) {\n",
              "          const element = document.querySelector('#df-783f703c-2774-4501-9549-cd987d43754b');\n",
              "          const dataTable =\n",
              "            await google.colab.kernel.invokeFunction('convertToInteractive',\n",
              "                                                     [key], {});\n",
              "          if (!dataTable) return;\n",
              "\n",
              "          const docLinkHtml = 'Like what you see? Visit the ' +\n",
              "            '<a target=\"_blank\" href=https://colab.research.google.com/notebooks/data_table.ipynb>data table notebook</a>'\n",
              "            + ' to learn more about interactive tables.';\n",
              "          element.innerHTML = '';\n",
              "          dataTable['output_type'] = 'display_data';\n",
              "          await google.colab.output.renderOutput(dataTable, element);\n",
              "          const docLink = document.createElement('div');\n",
              "          docLink.innerHTML = docLinkHtml;\n",
              "          element.appendChild(docLink);\n",
              "        }\n",
              "      </script>\n",
              "    </div>\n",
              "  </div>\n",
              "  "
            ],
            "text/plain": [
              "                                       uuid            author  \\\n",
              "0  2dcfc3db5b8b74d98041d08ac8dae62944e37419  Joachim Hagopian   \n",
              "1  6cec28c6ee03e73eab7e141dfd2da4191e5d4df0     Andrew Anglin   \n",
              "2  5fa56279455a0affbbf2475d4af5d04b359629cd               NaN   \n",
              "\n",
              "                                               title  \\\n",
              "0                             Another US False Flag?   \n",
              "1  US and Allies Openly Massing Huge Army on Russ...   \n",
              "2  Beyond The Veil: Channeling My Sister’s Messag...   \n",
              "\n",
              "                                                text language  \\\n",
              "0  By Joachim Hagopian October 29, 2016 \\nThe Wes...  english   \n",
              "1  US and Allies Openly Massing Huge Army on Russ...  english   \n",
              "2  By In5D on November 14, 2016 in Spiritual Awak...  english   \n",
              "\n",
              "           site_url country                                          tokenized  \n",
              "0   lewrockwell.com      US  [joachim, hagopian, octob, western, media, sei...  \n",
              "1  dailystormer.com      US  [us, alli, openli, mass, huge, armi, russian, ...  \n",
              "2          in5d.com      US  [ind, novemb, spiritu, awaken, first, time, ch...  "
            ]
          },
          "metadata": {},
          "execution_count": 35
        }
      ]
    },
    {
      "cell_type": "markdown",
      "source": [
        "# Slpit dataset"
      ],
      "metadata": {
        "id": "zJqw63B23YsY"
      }
    },
    {
      "cell_type": "code",
      "source": [
        "msk = np.random.rand(len(df)) < 0.80\n",
        "\n",
        "train_df = df[msk]\n",
        "train_df.reset_index(drop=True,inplace=True)\n",
        "\n",
        "test_df = df[~msk]\n",
        "test_df.reset_index(drop=True,inplace=True)\n",
        "\n",
        "print(len(df),len(train_df),len(test_df))"
      ],
      "metadata": {
        "colab": {
          "base_uri": "https://localhost:8080/"
        },
        "id": "1BwxSRm1guSL",
        "outputId": "08bd63ec-caea-400b-d0d1-3454e628405b"
      },
      "execution_count": null,
      "outputs": [
        {
          "output_type": "stream",
          "name": "stdout",
          "text": [
            "10812 8671 2141\n"
          ]
        }
      ]
    },
    {
      "cell_type": "markdown",
      "source": [
        "# LDA Trainer"
      ],
      "metadata": {
        "id": "XRiUFNhu3cPN"
      }
    },
    {
      "cell_type": "code",
      "source": [
        "def train_lda(data):\n",
        "    \"\"\"\n",
        "    This function trains the lda model\n",
        "    We setup parameters like number of topics, the chunksize to use in Hoffman method\n",
        "    We also do 2 passes of the data since this is a small dataset, so we want the distributions to stabilize\n",
        "    \"\"\"\n",
        "    num_topics = 10\n",
        "    chunksize = 300\n",
        "    dictionary = corpora.Dictionary(data['tokenized'])\n",
        "    corpus = [dictionary.doc2bow(doc) for doc in data['tokenized']]\n",
        "    t1 = time.time()\n",
        "    # low alpha means each document is only represented by a small number of topics, and vice versa\n",
        "    # low eta means each topic is only represented by a small number of words, and vice versa\n",
        "    lda = LdaModel(corpus=corpus, num_topics=num_topics, id2word=dictionary,\n",
        "                   alpha=1e-2, eta=0.5e-2, chunksize=chunksize, minimum_probability=0.0, passes=2)\n",
        "    t2 = time.time()\n",
        "    print(\"Time to train LDA model on \", len(df), \"articles: \", (t2-t1)/60, \"min\")\n",
        "    return dictionary,corpus,lda"
      ],
      "metadata": {
        "id": "8Od7pbYCguPT"
      },
      "execution_count": null,
      "outputs": []
    },
    {
      "cell_type": "markdown",
      "source": [
        "**Train LDA**"
      ],
      "metadata": {
        "id": "_56rRzic3rTt"
      }
    },
    {
      "cell_type": "code",
      "source": [
        "dictionary,corpus,lda = train_lda(train_df)"
      ],
      "metadata": {
        "colab": {
          "base_uri": "https://localhost:8080/"
        },
        "id": "WAZ9FJewguM-",
        "outputId": "95fc199e-3559-41cb-ca6b-9a3c80c7247c"
      },
      "execution_count": null,
      "outputs": [
        {
          "output_type": "stream",
          "name": "stderr",
          "text": [
            "/usr/local/lib/python3.7/dist-packages/gensim/models/ldamodel.py:1023: RuntimeWarning: divide by zero encountered in log\n",
            "  diff = np.log(self.expElogbeta)\n"
          ]
        },
        {
          "output_type": "stream",
          "name": "stdout",
          "text": [
            "Time to train LDA model on  10812 articles:  0.5253741621971131 min\n"
          ]
        }
      ]
    },
    {
      "cell_type": "markdown",
      "source": [
        "**LDA Topic and top words**"
      ],
      "metadata": {
        "id": "TDBsCFYw3yKG"
      }
    },
    {
      "cell_type": "code",
      "source": [
        "lda.show_topics(num_topics=10, num_words=20)"
      ],
      "metadata": {
        "colab": {
          "base_uri": "https://localhost:8080/"
        },
        "id": "d07LboPHhorB",
        "outputId": "bc14d92b-ea43-434a-84b6-8cc201336862"
      },
      "execution_count": null,
      "outputs": [
        {
          "output_type": "execute_result",
          "data": {
            "text/plain": [
              "[(0,\n",
              "  '0.037*\"clinton\" + 0.020*\"hillari\" + 0.019*\"email\" + 0.013*\"fbi\" + 0.011*\"investig\" + 0.009*\"campaign\" + 0.006*\"comey\" + 0.006*\"would\" + 0.006*\"report\" + 0.005*\"inform\" + 0.005*\"state\" + 0.005*\"new\" + 0.005*\"elect\" + 0.005*\"said\" + 0.005*\"presid\" + 0.005*\"wikileak\" + 0.005*\"podesta\" + 0.005*\"obama\" + 0.005*\"news\" + 0.004*\"democrat\"'),\n",
              " (1,\n",
              "  '0.060*\"trump\" + 0.025*\"elect\" + 0.020*\"vote\" + 0.014*\"donald\" + 0.014*\"hillari\" + 0.013*\"clinton\" + 0.011*\"democrat\" + 0.010*\"voter\" + 0.009*\"support\" + 0.009*\"presid\" + 0.009*\"american\" + 0.009*\"republican\" + 0.008*\"candid\" + 0.008*\"state\" + 0.007*\"parti\" + 0.007*\"media\" + 0.007*\"win\" + 0.007*\"campaign\" + 0.007*\"poll\" + 0.007*\"polit\"'),\n",
              " (2,\n",
              "  '0.010*\"water\" + 0.007*\"said\" + 0.007*\"pipelin\" + 0.007*\"report\" + 0.006*\"protest\" + 0.005*\"land\" + 0.005*\"stand\" + 0.005*\"north\" + 0.005*\"dakota\" + 0.005*\"year\" + 0.005*\"camp\" + 0.004*\"rock\" + 0.004*\"area\" + 0.004*\"polic\" + 0.004*\"time\" + 0.004*\"energi\" + 0.004*\"access\" + 0.004*\"new\" + 0.004*\"also\" + 0.004*\"one\"'),\n",
              " (3,\n",
              "  '0.009*\"peopl\" + 0.008*\"world\" + 0.008*\"one\" + 0.006*\"us\" + 0.005*\"mani\" + 0.005*\"time\" + 0.005*\"human\" + 0.005*\"power\" + 0.004*\"life\" + 0.004*\"even\" + 0.004*\"new\" + 0.004*\"way\" + 0.003*\"like\" + 0.003*\"would\" + 0.003*\"work\" + 0.003*\"becom\" + 0.003*\"live\" + 0.003*\"year\" + 0.003*\"cultur\" + 0.003*\"also\"'),\n",
              " (4,\n",
              "  '0.012*\"go\" + 0.012*\"like\" + 0.011*\"get\" + 0.010*\"peopl\" + 0.009*\"one\" + 0.008*\"dont\" + 0.008*\"know\" + 0.008*\"say\" + 0.007*\"want\" + 0.007*\"make\" + 0.007*\"thing\" + 0.007*\"think\" + 0.007*\"time\" + 0.007*\"would\" + 0.005*\"even\" + 0.005*\"look\" + 0.005*\"take\" + 0.005*\"come\" + 0.005*\"said\" + 0.005*\"see\"'),\n",
              " (5,\n",
              "  '0.013*\"food\" + 0.012*\"use\" + 0.010*\"health\" + 0.008*\"also\" + 0.007*\"bodi\" + 0.006*\"studi\" + 0.006*\"effect\" + 0.006*\"medic\" + 0.006*\"jewish\" + 0.006*\"water\" + 0.006*\"may\" + 0.006*\"cancer\" + 0.006*\"caus\" + 0.006*\"israel\" + 0.005*\"drug\" + 0.005*\"brain\" + 0.005*\"help\" + 0.005*\"one\" + 0.005*\"natur\" + 0.005*\"palestinian\"'),\n",
              " (6,\n",
              "  '0.009*\"year\" + 0.008*\"bank\" + 0.008*\"market\" + 0.008*\"money\" + 0.007*\"govern\" + 0.007*\"million\" + 0.006*\"us\" + 0.006*\"compani\" + 0.006*\"gold\" + 0.006*\"econom\" + 0.006*\"trade\" + 0.006*\"economi\" + 0.005*\"dollar\" + 0.005*\"system\" + 0.005*\"new\" + 0.005*\"would\" + 0.005*\"financi\" + 0.005*\"tax\" + 0.005*\"busi\" + 0.005*\"percent\"'),\n",
              " (7,\n",
              "  '0.019*\"syria\" + 0.015*\"us\" + 0.015*\"syrian\" + 0.013*\"forc\" + 0.011*\"saudi\" + 0.010*\"attack\" + 0.010*\"terrorist\" + 0.009*\"isi\" + 0.008*\"aleppo\" + 0.008*\"militari\" + 0.008*\"civilian\" + 0.008*\"said\" + 0.008*\"group\" + 0.007*\"report\" + 0.007*\"kill\" + 0.007*\"war\" + 0.007*\"armi\" + 0.006*\"citi\" + 0.006*\"islam\" + 0.006*\"turkey\"'),\n",
              " (8,\n",
              "  '0.012*\"state\" + 0.011*\"obama\" + 0.010*\"law\" + 0.009*\"govern\" + 0.008*\"right\" + 0.007*\"polic\" + 0.007*\"american\" + 0.007*\"offic\" + 0.006*\"nation\" + 0.006*\"us\" + 0.006*\"court\" + 0.006*\"peopl\" + 0.005*\"feder\" + 0.005*\"white\" + 0.004*\"america\" + 0.004*\"presid\" + 0.004*\"black\" + 0.004*\"school\" + 0.004*\"use\" + 0.004*\"constitut\"'),\n",
              " (9,\n",
              "  '0.019*\"us\" + 0.016*\"russia\" + 0.016*\"war\" + 0.011*\"russian\" + 0.010*\"state\" + 0.009*\"countri\" + 0.008*\"presid\" + 0.007*\"would\" + 0.007*\"world\" + 0.006*\"unit\" + 0.006*\"foreign\" + 0.006*\"putin\" + 0.006*\"militari\" + 0.006*\"polici\" + 0.006*\"american\" + 0.006*\"nation\" + 0.005*\"govern\" + 0.005*\"china\" + 0.005*\"polit\" + 0.005*\"washington\"')]"
            ]
          },
          "metadata": {},
          "execution_count": 43
        }
      ]
    },
    {
      "cell_type": "markdown",
      "source": [
        "**Topic and its top words**"
      ],
      "metadata": {
        "id": "tO981bn-4SXl"
      }
    },
    {
      "cell_type": "code",
      "source": [
        "lda.show_topic(topicid=4, topn=5)"
      ],
      "metadata": {
        "colab": {
          "base_uri": "https://localhost:8080/"
        },
        "id": "n78JkbW9hooa",
        "outputId": "91d917b8-9815-4558-e56a-8e31865c7adb"
      },
      "execution_count": null,
      "outputs": [
        {
          "output_type": "execute_result",
          "data": {
            "text/plain": [
              "[('go', 0.012027981),\n",
              " ('like', 0.011535998),\n",
              " ('get', 0.011000965),\n",
              " ('peopl', 0.009750744),\n",
              " ('one', 0.009303042)]"
            ]
          },
          "metadata": {},
          "execution_count": 74
        }
      ]
    },
    {
      "cell_type": "code",
      "source": [
        "lda.show_topic(topicid=9, topn=5)"
      ],
      "metadata": {
        "colab": {
          "base_uri": "https://localhost:8080/"
        },
        "id": "1GoqynsEhomE",
        "outputId": "1857d286-3375-43e1-efec-1334bad13001"
      },
      "execution_count": null,
      "outputs": [
        {
          "output_type": "execute_result",
          "data": {
            "text/plain": [
              "[('us', 0.01945395),\n",
              " ('russia', 0.016294932),\n",
              " ('war', 0.01573997),\n",
              " ('russian', 0.010540026),\n",
              " ('state', 0.010301189)]"
            ]
          },
          "metadata": {},
          "execution_count": 75
        }
      ]
    },
    {
      "cell_type": "markdown",
      "source": [
        "# Result on sample train set example"
      ],
      "metadata": {
        "id": "3NGtcmA24tXt"
      }
    },
    {
      "cell_type": "code",
      "source": [
        "random_article_index = np.random.randint(len(train_df))\n",
        "bow = dictionary.doc2bow(train_df.iloc[random_article_index,7])\n",
        "print(random_article_index)"
      ],
      "metadata": {
        "colab": {
          "base_uri": "https://localhost:8080/"
        },
        "id": "9sQ6SB2WjbDN",
        "outputId": "b12e90d3-14dc-425c-fe6e-f72cf7866241"
      },
      "execution_count": null,
      "outputs": [
        {
          "output_type": "stream",
          "name": "stdout",
          "text": [
            "8656\n"
          ]
        }
      ]
    },
    {
      "cell_type": "code",
      "source": [
        "print(train_df.iloc[random_article_index,3])"
      ],
      "metadata": {
        "colab": {
          "base_uri": "https://localhost:8080/"
        },
        "id": "79wyLpnbjbBJ",
        "outputId": "58500774-22c8-4052-df37-7c098a2a9d14"
      },
      "execution_count": null,
      "outputs": [
        {
          "output_type": "stream",
          "name": "stdout",
          "text": [
            "November 2, 2016 Will Obama recognize Palestinian state? \n",
            "US President Barack Obama will be stepping down from eight years in office in January, but not before at least one more last ditch effort to save a foreign policy legacy marred by failure. \n",
            "\n",
            "According to Foundation for the Defense of Democracies Vice President Jonathan Schanzer, the White House try one more last ditch effort to solve the Israeli-Palestinian conflict, making moves ranging from sanctioning US citizens who do business with Israeli settlements all the way to possibly recognizing a Palestinian state. \n",
            "\n",
            "Speaking to the Wall Street Journal, Schanzer said that the Obama administration’s first course of action might be to adopt a UN Security Council Resolution condemning the settlements. \n",
            "Email (will not be published) (required) Website Sow a seed to help the Jewish people Follow Endtime Copyright © 2016 All Rights Reserved Endtime Ministries | End of the Age | Irvin Baxter Endtime Ministries, Inc. PO Box 940729 Plano, TX 75094 Toll Free: 1.800.363.8463 DON'T JUST READ THE NEWS... understand it from a biblical perspective. Your Information will never be shared with any third party. Get a 2-year subscription, normally $29, now just $20.15. ONLY 500 deals are still available. Offer available while supplies last or it expires on December 31, 2015. close We are a small non-profit that runs a high-traffic website, a daily TV and radio program, a bi-monthly magazine, the prophecy college in Jerusalem, and more. Although we only have 35 team members, we are able to serve tens of millions of people each month; and have costs like other world-wide organizations. We have very few third-party ads and we don’t receive government funding. We survive on the goodness of God, product sales, and donations from our wonderful partners. Dear Readers, X close We have experienced tremendous growth in our web presence over the last five years. In fact, in 2010 we averaged 228,000 pageviews per month. Last year we averaged just over 2,000,000 pageviews per month. That’s an increase of 777% in five years! However, our servers and software are outdated, which causes downtime on occasion for many of you and additional work hours and finances to maintain for us at Endtime. Updating our servers and software as well as maintaining service for a year will cost us $42,000. If each person reading this gave at least $10, our bill to provide FREE broadcasting and resources to the world via our website would be covered for over a year! Learn more - Click Here ► Dear Readers,\n"
          ]
        }
      ]
    },
    {
      "cell_type": "code",
      "source": [
        "doc_distribution = np.array([tup[1] for tup in lda.get_document_topics(bow=bow)])\n",
        "print(np.array([tup[1] for tup in lda.get_document_topics(bow=bow)]))"
      ],
      "metadata": {
        "colab": {
          "base_uri": "https://localhost:8080/"
        },
        "id": "ORZlnemAja-x",
        "outputId": "e9d337e7-9640-4838-e609-61b6a1ecf76b"
      },
      "execution_count": null,
      "outputs": [
        {
          "output_type": "stream",
          "name": "stdout",
          "text": [
            "[1.4502071e-01 4.3649066e-05 4.3649066e-05 4.3649066e-05 1.1009456e-01\n",
            " 2.0927703e-01 3.9982563e-01 4.3649066e-05 4.3649066e-05 1.3556384e-01]\n"
          ]
        }
      ]
    },
    {
      "cell_type": "code",
      "source": [
        "# bar plot of topic distribution for this document\n",
        "fig, ax = plt.subplots(figsize=(12,6));\n",
        "# the histogram of the data\n",
        "patches = ax.bar(np.arange(len(doc_distribution)), doc_distribution)\n",
        "ax.set_xlabel('Topic ID', fontsize=15)\n",
        "ax.set_ylabel('Topic Contribution', fontsize=15)\n",
        "ax.set_title(\"Topic Distribution for Article \" + str(random_article_index), fontsize=20)\n",
        "ax.set_xticks(np.linspace(10,100,10))\n",
        "fig.tight_layout()\n",
        "plt.show()\n"
      ],
      "metadata": {
        "colab": {
          "base_uri": "https://localhost:8080/",
          "height": 441
        },
        "id": "HM9zqc4_ja8N",
        "outputId": "687913a6-8ba1-4981-96c8-d58147eef149"
      },
      "execution_count": null,
      "outputs": [
        {
          "output_type": "display_data",
          "data": {
            "image/png": "[encoded data removed]",
            "text/plain": [
              "<Figure size 864x432 with 1 Axes>"
            ]
          },
          "metadata": {}
        }
      ]
    },
    {
      "cell_type": "code",
      "source": [
        "# print the top 5 contributing topics and their words\n",
        "for i in doc_distribution.argsort()[-5:][::-1]:\n",
        "    print(i, lda.show_topic(topicid=i, topn=10), \"\\n\")"
      ],
      "metadata": {
        "colab": {
          "base_uri": "https://localhost:8080/"
        },
        "id": "kQYQdDg5ja53",
        "outputId": "b2b2268a-c8f0-4cba-f6d1-ba7c352c9192"
      },
      "execution_count": null,
      "outputs": [
        {
          "output_type": "stream",
          "name": "stdout",
          "text": [
            "4 [('go', 0.012027981), ('like', 0.011535998), ('get', 0.011000965), ('peopl', 0.009750744), ('one', 0.009303042), ('dont', 0.008453978), ('know', 0.008292153), ('say', 0.0076245745), ('want', 0.0072436254), ('make', 0.0072089266)] \n",
            "\n",
            "5 [('food', 0.013070557), ('use', 0.012166073), ('health', 0.009778163), ('also', 0.008461121), ('bodi', 0.0066153314), ('studi', 0.006266033), ('effect', 0.0062619415), ('medic', 0.006042993), ('jewish', 0.006000305), ('water', 0.0059274067)] \n",
            "\n",
            "2 [('water', 0.009610575), ('said', 0.007216422), ('pipelin', 0.007212644), ('report', 0.0066290176), ('protest', 0.005905348), ('land', 0.0054161637), ('stand', 0.0053167515), ('north', 0.004938546), ('dakota', 0.00493665), ('year', 0.0048171417)] \n",
            "\n",
            "7 [('syria', 0.01929458), ('us', 0.015079388), ('syrian', 0.014941897), ('forc', 0.013368824), ('saudi', 0.011263618), ('attack', 0.009866648), ('terrorist', 0.009632475), ('isi', 0.008531877), ('aleppo', 0.008333368), ('militari', 0.008047442)] \n",
            "\n",
            "0 [('clinton', 0.03746054), ('hillari', 0.020321669), ('email', 0.018947398), ('fbi', 0.012582458), ('investig', 0.010562455), ('campaign', 0.00906756), ('comey', 0.0061306213), ('would', 0.00561949), ('report', 0.0055258214), ('inform', 0.005467848)] \n",
            "\n"
          ]
        }
      ]
    },
    {
      "cell_type": "markdown",
      "source": [
        "# Predict topic on any sentence"
      ],
      "metadata": {
        "id": "UYLcQ8u7qZ5Q"
      }
    },
    {
      "cell_type": "code",
      "source": [
        "sentence  = \"Joe Biden is US President \""
      ],
      "metadata": {
        "id": "Q4_wS-20rneC"
      },
      "execution_count": null,
      "outputs": []
    },
    {
      "cell_type": "markdown",
      "source": [
        "**Topic prediction**"
      ],
      "metadata": {
        "id": "zLe4eojI5dGN"
      }
    },
    {
      "cell_type": "code",
      "source": [
        "print('sentence : ',sentence,'\\n')\n",
        "preprocess_sentence = stem_words(remove_stop_words(initial_clean(sentence)))\n",
        "prediction = np.array([tup[1] for tup in lda.get_document_topics(bow=dictionary.doc2bow(preprocess_sentence))])\n",
        "print('prediction : ',prediction,'\\n')\n",
        "print('predicted topic id :',np.argmax(prediction),'\\n')\n",
        "print('Top 10 words in predicted topic : ',lda.show_topic(topicid=np.argmax(prediction), topn=10))"
      ],
      "metadata": {
        "colab": {
          "base_uri": "https://localhost:8080/"
        },
        "id": "kcREgRuqmM4K",
        "outputId": "5ba87c5d-7ed2-4d3a-a988-1465e9791342"
      },
      "execution_count": null,
      "outputs": [
        {
          "output_type": "stream",
          "name": "stdout",
          "text": [
            "sentence :  Joe Biden is US President  \n",
            "\n",
            "prediction :  [0.97804874 0.00243902 0.00243902 0.00243902 0.00243902 0.00243902\n",
            " 0.00243902 0.00243902 0.00243902 0.00243902] \n",
            "\n",
            "predicted topic id : 0 \n",
            "\n",
            "Top 10 words in predicted topic :  [('clinton', 0.03746054), ('hillari', 0.020321669), ('email', 0.018947398), ('fbi', 0.012582458), ('investig', 0.010562455), ('campaign', 0.00906756), ('comey', 0.0061306213), ('would', 0.00561949), ('report', 0.0055258214), ('inform', 0.005467848)]\n"
          ]
        }
      ]
    },
    {
      "cell_type": "code",
      "source": [
        ""
      ],
      "metadata": {
        "id": "97ow2Vdt6tw8"
      },
      "execution_count": null,
      "outputs": []
    }
  ]
}